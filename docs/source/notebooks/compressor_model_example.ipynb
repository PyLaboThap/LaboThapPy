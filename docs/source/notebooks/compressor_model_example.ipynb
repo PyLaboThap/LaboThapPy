{
 "cells": [
  {
   "cell_type": "markdown",
   "id": "909e3593",
   "metadata": {},
   "source": [
    "# Compressor Model Example\n",
    "\n",
    "This example demonstrates how to use the compressor component directly from the library. The compressor is modeled assuming a constant isentropic efficiency.\n",
    "\n",
    "## 1. Check the Inputs and Parameters\n",
    "\n",
    "To identify the required inputs and parameters, use the print_setup method. This will display the names of the component’s connectors, as well as the inputs and parameters needed to define the model.\n"
   ]
  },
  {
   "cell_type": "code",
   "execution_count": 3,
   "id": "610340a2",
   "metadata": {},
   "outputs": [
    {
     "ename": "ModuleNotFoundError",
     "evalue": "No module named 'component.compressor.compessor_cst_eff'",
     "output_type": "error",
     "traceback": [
      "\u001b[1;31m---------------------------------------------------------------------------\u001b[0m",
      "\u001b[1;31mModuleNotFoundError\u001b[0m                       Traceback (most recent call last)",
      "Cell \u001b[1;32mIn[3], line 2\u001b[0m\n\u001b[0;32m      1\u001b[0m \u001b[38;5;66;03m# Import the compressor model with constant isentropic efficiency\u001b[39;00m\n\u001b[1;32m----> 2\u001b[0m \u001b[38;5;28;01mfrom\u001b[39;00m \u001b[38;5;21;01mcomponent\u001b[39;00m\u001b[38;5;21;01m.\u001b[39;00m\u001b[38;5;21;01mcompressor\u001b[39;00m\u001b[38;5;21;01m.\u001b[39;00m\u001b[38;5;21;01mcompessor_cst_eff\u001b[39;00m \u001b[38;5;28;01mimport\u001b[39;00m CompressorCstEff\n\u001b[0;32m      4\u001b[0m \u001b[38;5;66;03m# Create an instance of the compressor\u001b[39;00m\n\u001b[0;32m      5\u001b[0m compressor \u001b[38;5;241m=\u001b[39m CompressorCstEff()\n",
      "\u001b[1;31mModuleNotFoundError\u001b[0m: No module named 'component.compressor.compessor_cst_eff'"
     ]
    }
   ],
   "source": [
    "# Import the compressor model with constant isentropic efficiency\n",
    "from component.compressor.compessor_cst_eff import CompressorCstEff\n",
    "\n",
    "# Create an instance of the compressor\n",
    "compressor = CompressorCstEff()\n",
    "\n",
    "# Display the component’s setup: inputs, outputs, connectors, and parameters\n",
    "compressor.print_setup()"
   ]
  }
 ],
 "metadata": {
  "kernelspec": {
   "display_name": "myenv",
   "language": "python",
   "name": "python3"
  },
  "language_info": {
   "codemirror_mode": {
    "name": "ipython",
    "version": 3
   },
   "file_extension": ".py",
   "mimetype": "text/x-python",
   "name": "python",
   "nbconvert_exporter": "python",
   "pygments_lexer": "ipython3",
   "version": "3.12.10"
  }
 },
 "nbformat": 4,
 "nbformat_minor": 5
}
