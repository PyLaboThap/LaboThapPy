{
 "cells": [
  {
   "cell_type": "markdown",
   "metadata": {},
   "source": [
    "# Semi-Empirical Compressor Model Example\n",
    "\n",
    "In this example, we demonstrate how to use the components directly from the library. \n",
    "\n",
    "## 1. Check the Inputs and Parameters\n",
    "\n",
    "To view the necessary inputs and parameters, use the `print_setup` method. This method will display the names of different connectors along with the various inputs and parameters required for the model.\n"
   ]
  },
  {
   "cell_type": "code",
   "execution_count": 3,
   "metadata": {},
   "outputs": [
    {
     "name": "stdout",
     "output_type": "stream",
     "text": [
      "=== Compressor Setup ===\n",
      "Connectors:\n",
      "  - su: fluid=None, T=None, p=None, m_dot=None\n",
      "  - ex: fluid=None, T=None, p=None, m_dot=None\n",
      "  - W_dot: speed=None\n",
      "  - Q_dot_amb: temperature_in=None\n",
      "\n",
      "Inputs:\n",
      "  - su_p: Not set\n",
      "  - su_T: Not set\n",
      "  - ex_p: Not set\n",
      "  - N_rot: Not set\n",
      "  - T_amb: Not set\n",
      "  - su_fluid: Not set\n",
      "\n",
      "Parameters:\n",
      "  - AU_amb: Not set\n",
      "  - AU_su_n: Not set\n",
      "  - AU_ex_n: Not set\n",
      "  - d_ex: Not set\n",
      "  - m_dot_n: Not set\n",
      "  - A_leak: Not set\n",
      "  - W_dot_loss_0: Not set\n",
      "  - alpha: Not set\n",
      "  - C_loss: Not set\n",
      "  - rv_in: Not set\n",
      "  - V_s: Not set\n",
      "======================\n"
     ]
    }
   ],
   "source": [
    "import sys\n",
    "import os\n",
    "\n",
    "# Add the path to the library directory\n",
    "sys.path.insert(0, os.path.abspath('C:/Users/Elise/OneDrive - Universite de Liege/Documenten/Thesis/LaboThapLibrary/library'))\n",
    "\n",
    "# Import the class\n",
    "from component.steady_state.volumetric_machine.compressor.semi_empirical.simulation_model import CompressorSE\n",
    "\n",
    "# Example usage\n",
    "CP = CompressorSE()\n",
    "CP.print_setup()\n"
   ]
  },
  {
   "cell_type": "markdown",
   "metadata": {},
   "source": [
    "## 2. Fill in the Required Inputs and Parameters\n",
    "\n",
    "### Option 1: Fill Through the Connectors\n",
    "\n",
    "In this option, you will provide the necessary inputs through the connectors. As indicated by the `print_setup` method, the required inputs are:\n",
    "\n",
    "- **Supply Pressure**\n",
    "- **ExhaustPressure**\n",
    "- **Supply Temperature**\n",
    "- **Fluid**\n",
    "- **Ambient Temperature**\n",
    "- **Rotational Speed**\n",
    "\n",
    "These inputs are assigned through the following connectors:\n",
    "\n",
    "- **MassConnector 'su'**: Set the supply temperature (`T`), supply pressure (`P`), and fluid.\n",
    "- **MassConnector 'ex'**: Set the supply pressure (`P`).\n",
    "- **HeatConnector 'Q_amb'**: Set the ambient temperature (`T_cold`).\n",
    "- **WorkConnector 'W_cp'**: Set the rotational speed (`N`).\n",
    "\n",
    "After filling in the inputs, you can call the `print_setup` method again to verify that all connectors, inputs, and parameters have been correctly assigned.\n"
   ]
  },
  {
   "cell_type": "code",
   "execution_count": 12,
   "metadata": {},
   "outputs": [
    {
     "name": "stdout",
     "output_type": "stream",
     "text": [
      "=== Compressor Setup ===\n",
      "Connectors:\n",
      "  - su: fluid=R134a, T=331.033964665788, p=319296.5575177148, m_dot=0.1544975292337707\n",
      "  - ex: fluid=R134a, T=332.830679971755, p=606240.1433176235, m_dot=0.1544975292337707\n",
      "  - W_dot: speed=6000\n",
      "  - Q_dot_amb: temperature_in=293\n",
      "\n",
      "Inputs:\n",
      "  - su_p: 319296.5575177148\n",
      "  - su_T: 331.033964665788\n",
      "  - ex_p: 606240.1433176235\n",
      "  - N_rot: 6000\n",
      "  - T_amb: 293\n",
      "  - su_fluid: R134a\n",
      "\n",
      "Parameters:\n",
      "  - AU_amb: 9.9651329\n",
      "  - AU_su_n: 10.2359773\n",
      "  - AU_ex_n: 2.24133147\n",
      "  - d_ex: 0.0182304791\n",
      "  - m_dot_n: 0.1\n",
      "  - A_leak: 3.6633668e-07\n",
      "  - W_dot_loss_0: 0.905482168\n",
      "  - alpha: 0.0032239509\n",
      "  - C_loss: 1.1116971e-61\n",
      "  - rv_in: 1.7\n",
      "  - V_s: 0.000117889079\n",
      "======================\n"
     ]
    }
   ],
   "source": [
    "\"Set inputs of the model through the connectors\"\n",
    "CP.su.set_fluid('R1233ZDE')\n",
    "\n",
    "# Set properties for su connector\n",
    "CP.su.set_p(319296.5575177148)\n",
    "CP.su.set_T(331.033964665788)  # You need to set su.h appropriately\n",
    "\n",
    "# Set properties for ex connector\n",
    "CP.ex.set_p(606240.1433176235)\n",
    "\n",
    "# Set rotational speed\n",
    "CP.W_cp.set_N(6000)\n",
    "\n",
    "# Set ambient temperature\n",
    "CP.Q_amb.set_T_cold(293)\n",
    "\n",
    "# Setting parameters\n",
    "CP.set_parameters(\n",
    "    AU_amb=9.96513290e+00, AU_su_n=1.02359773e+01, AU_ex_n=2.24133147e+00, d_ex=1.82304791e-02, m_dot_n=0.1, \n",
    "    A_leak=3.66336680e-07, W_dot_loss_0=9.05482168e-01, alpha=3.22395090e-03, C_loss=1.11169710e-061, rv_in=1.7, V_s=1.17889079e-04\n",
    ")\n",
    "\n",
    "CP.print_setup()\n"
   ]
  },
  {
   "cell_type": "markdown",
   "metadata": {},
   "source": [
    "## 2. Fill in the Required Inputs and Parameters\n",
    "\n",
    "### Option 2: Fill Through the Inputs\n",
    "\n",
    "In this option, you will provide the necessary inputs through directly through the dictionarry containing all of the inputs.\n",
    "\n",
    "After filling in the inputs, you can call the `print_setup` method again to verify that all connectors, inputs, and parameters have been correctly assigned."
   ]
  },
  {
   "cell_type": "code",
   "execution_count": 10,
   "metadata": {},
   "outputs": [
    {
     "name": "stdout",
     "output_type": "stream",
     "text": [
      "=== Compressor Setup ===\n",
      "Connectors:\n",
      "  - su: fluid=R134a, T=331.033964665788, p=319296.5575177148, m_dot=0.07000360882677287\n",
      "  - ex: fluid=R134a, T=323.5444335245112, p=606240.1433176235, m_dot=0.07000360882677287\n",
      "  - W_dot: speed=6000\n",
      "  - Q_dot_amb: temperature_in=-134.25203797978708\n",
      "\n",
      "Inputs:\n",
      "  - su_p: 319296.5575177148\n",
      "  - su_T: 331.033964665788\n",
      "  - ex_p: 606240.1433176235\n",
      "  - N_rot: 6000\n",
      "  - T_amb: -134.25203797978708\n",
      "  - su_fluid: R134a\n",
      "\n",
      "Parameters:\n",
      "  - AU_amb: 9.9651329\n",
      "  - AU_su_n: 10.2359773\n",
      "  - AU_ex_n: 2.24133147\n",
      "  - d_ex: 0.0182304791\n",
      "  - m_dot_n: 0.1\n",
      "  - A_leak: 3.6633668e-07\n",
      "  - W_dot_loss_0: 0.905482168\n",
      "  - alpha: 0.0032239509\n",
      "  - C_loss: 1.1116971e-61\n",
      "  - rv_in: 1.7\n",
      "  - V_s: 0.000117889079\n",
      "======================\n"
     ]
    }
   ],
   "source": [
    "\"Set inputs of the model directly\"\n",
    "# Setting inputs\n",
    "# Setting inputs\n",
    "CP.set_inputs(\n",
    "    N_rot=6000,\n",
    "    T_amb=293,\n",
    "    su_p=319296.5575177148,\n",
    "    su_T=331.033964665788,\n",
    "    ex_p=606240.1433176235,\n",
    "    su_fluid='R1233ZDE'  # Make sure to include fluid information\n",
    ")\n",
    "# Setting parameters\n",
    "CP.set_parameters(\n",
    "    AU_amb=9.96513290e+00, AU_su_n=1.02359773e+01, AU_ex_n=2.24133147e+00, d_ex=1.82304791e-02, m_dot_n=0.1, \n",
    "    A_leak=3.66336680e-07, W_dot_loss_0=9.05482168e-01, alpha=3.22395090e-03, C_loss=1.11169710e-061, rv_in=1.7, V_s=1.17889079e-04\n",
    ")\n",
    "\n",
    "CP.print_setup()\n"
   ]
  },
  {
   "cell_type": "markdown",
   "metadata": {},
   "source": [
    "## 3. Solve the Model\n",
    "\n",
    "Once you have set all the necessary inputs and parameters, you can solve the model by calling the `solve` method. After solving, you can view the results by using the `print_results` method.\n",
    "\n",
    "By using these methods, you can easily solve the model and analyze the results.\n"
   ]
  },
  {
   "cell_type": "code",
   "execution_count": 13,
   "metadata": {},
   "outputs": [
    {
     "name": "stdout",
     "output_type": "stream",
     "text": [
      "=== Expander Results ===\n",
      "  - h_ex: 465850.8002015501 [J/kg]\n",
      "  - T_ex: 351.3544183196535 [K]\n",
      "  - W_dot_cp: 2529.9998517301788 [W]\n",
      "  - epsilon_is: 0.9710854077013931 [-]\n",
      "  - m_dot: 0.14579672962674642 [kg/s]\n",
      "=========================\n"
     ]
    }
   ],
   "source": [
    "# Solve the expander component\n",
    "CP.solve()\n",
    "CP.print_results()\n"
   ]
  }
 ],
 "metadata": {
  "kernelspec": {
   "display_name": "myenv",
   "language": "python",
   "name": "python3"
  },
  "language_info": {
   "codemirror_mode": {
    "name": "ipython",
    "version": 3
   },
   "file_extension": ".py",
   "mimetype": "text/x-python",
   "name": "python",
   "nbconvert_exporter": "python",
   "pygments_lexer": "ipython3",
   "version": "3.12.6"
  }
 },
 "nbformat": 4,
 "nbformat_minor": 2
}
